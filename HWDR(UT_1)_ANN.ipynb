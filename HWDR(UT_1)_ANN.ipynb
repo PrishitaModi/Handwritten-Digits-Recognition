{
 "cells": [
  {
   "cell_type": "markdown",
   "metadata": {
    "id": "Hivk879ZQhxU"
   },
   "source": [
    "## What is a Neural Network\n",
    "So, what are these magical things that have been beating chess grandmasters, driving cars, detecting cancer cells and winning video games? \n",
    "\n",
    "A deep neural network is a layered representation of data. The term \"deep\" refers to the presence of multiple layers. Recall that in our core learning algorithms (like linear regression) data was not transformed or modified within the model, it simply existed in one layer. We passed some features to our model, some math was done, an answer was returned. The data was not changed or transformed throughout this process. A neural network processes our data differently. It attempts to represent our data in different ways and in different dimensions by applying specific operations to transform our data at each layer. Another way to express this is that at each layer our data is transformed in order to learn more about it. By performing these transformations, the model can better understand our data and therefore provide a better prediction. \n",
    "\n",
    "\n"
   ]
  },
  {
   "cell_type": "markdown",
   "metadata": {
    "id": "GOqUCZ2klTAq"
   },
   "source": [
    "## How it Works\n",
    "Before going into too much detail I will provide a very surface level explination of how neural networks work on a mathematical level. All the terms and concepts I discuss will be defined and explained in more detail below.\n",
    "\n",
    "On a lower level neural networks are simply a combination of elementry math operations and some more advanced linear algebra. Each neural network consists of a sequence of layers in which data passes through. These layers are made up on neurons and the neurons of one layer are connected to the next (see below). These connections are defined by what we call a weight (some numeric value). Each layer also has something called a bias, this is simply an extra neuron that has no connections and holds a single numeric value. Data starts at the input layer and is trasnformed as it passes through subsequent layers. The data at each subsequent neuron is defined as the following.\n",
    "\n",
    "> $Y =(\\sum_{i=0}^n w_i x_i) + b$\n",
    "\n",
    "> $w$ stands for the weight of each connection to the neuron\n",
    "\n",
    "> $x$ stands for the value of the connected neuron from the previous value\n",
    "\n",
    "> $b$ stands for the bias at each layer, this is a constant\n",
    "\n",
    "> $n$ is the number of connections\n",
    "\n",
    "> $Y$ is the output of the current neuron\n",
    "\n",
    "> $\\sum$ stands for sum\n",
    "\n",
    "The equation you just read is called a weighed sum. We will take this weighted sum at each and every neuron as we pass information through the network. Then we will add what's called a bias to this sum. The bias allows us to shift the network up or down by a constant value. It is like the y-intercept of a line.\n",
    "\n",
    "But that equation is the not complete one! We forgot a crucial part, **the activation function**. This is a function that we apply to the equation seen above to add complexity and dimensionality to our network. Our new equation with the addition of an activation function $F(x)$ is seen below.\n",
    "\n",
    "> $Y =F((\\sum_{i=0}^n w_i x_i) + b)$\n",
    "\n",
    "Our network will start with predefined activation functions (they may be different at each layer) but random weights and biases. As we train the network by feeding it data it will learn the correct weights and biases and adjust the network accordingly using a technqiue called **backpropagation** (explained below). Once the correct weights and biases have been learned our network will hopefully be able to give us meaningful predictions. We get these predictions by observing the values at our final layer, the output layer. \n",
    "\n",
    "\n"
   ]
  },
  {
   "cell_type": "markdown",
   "metadata": {
    "id": "o-oMh18_j5kl"
   },
   "source": [
    "## Breaking Down The Neural Network!\n",
    "\n",
    "Before we dive into any code lets break down how a neural network works and what it does.\n",
    "\n",
    "![alt text](http://www.extremetech.com/wp-content/uploads/2015/07/NeuralNetwork.png)\n",
    "*Figure 1*\n",
    "\n",
    "\n"
   ]
  },
  {
   "cell_type": "markdown",
   "metadata": {
    "id": "Xyxxs7oMlWtz"
   },
   "source": [
    "### Layers\n",
    "As we mentioned earlier each neural network consists of multiple layers. At each layer a different transformation of data occurs. Our initial input data is fed through the layers and eventually arrives at the output layer where we will obtain the result.\n",
    "#### Input Layer\n",
    "The input layer is the layer that our initial data is passed to. It is the first layer in our neural network.\n",
    "#### Output Layer\n",
    "The output layer is the layer that we will retrive our results from. Once the data has passed through all other layers it will arrive here.\n",
    "#### Hidden Layer(s)\n",
    "All the other layers in our neural network are called \"hidden layers\". This is because they are hidden to us, we cannot observe them. Most neural networks consist of at least one hidden layer but can have an unlimited amount. Typically, the more complex the model the more hidden layers.\n",
    "#### Neurons\n",
    "Each layer is made up of what are called neurons. Neurons have a few different properties that we will discuss later. The important aspect to understand now is that each neuron is responsible for generating/holding/passing ONE numeric value. \n",
    "\n",
    "This means that in the case of our input layer it will have as many neurons as we have input information. For example, say we want to pass an image that is 28x28 pixels, thats 784 pixels. We would need 784 neurons in our input layer to capture each of these pixels. \n",
    "\n",
    "This also means that our output layer will have as many neurons as we have output information. The output is a little more complicated to understand so I'll refrain from an example right now but hopefully you're getting the idea.\n",
    "\n",
    "But what about our hidden layers? Well these have as many neurons as we decide. We'll discuss how we can pick these values later but understand a hidden layer can have any number of neurons.\n",
    "#### Connected Layers\n",
    "So how are all these layers connected? Well the neurons in one layer will be connected to neurons in the subsequent layer. However, the neurons can be connected in a variety of different ways. \n",
    "\n",
    "Take for example *Figure 1* (look above). Each neuron in one layer is connected to every neuron in the next layer. This is called a **dense** layer. There are many other ways of connecting layers but well discuss those as we see them. \n",
    "\n"
   ]
  },
  {
   "cell_type": "markdown",
   "metadata": {
    "id": "a_bM6nQ-PZBY"
   },
   "source": [
    "### Weights\n",
    "Weights are associated with each connection in our neural network. Every pair of connected nodes will have one weight that denotes the strength of the connection between them. These are vital to the inner workings of a neural network and will be tweaked as the neural network is trained. The model will try to determine what these weights should be to achieve the best result. Weights start out at a constant or random value and will change as the network sees training data."
   ]
  },
  {
   "cell_type": "markdown",
   "metadata": {
    "id": "XwYq9doXeIl-"
   },
   "source": [
    "### Biases\n",
    "Biases are another important part of neural networks and will also be tweaked as the model is trained. A bias is simply a constant value associated with each layer. It can be thought of as an extra neuron that has no connections. The purpose of a bias is to shift an entire activation function by a constant value. This allows a lot more flexibllity when it comes to choosing an activation and training the network. There is one bias for each layer."
   ]
  },
  {
   "cell_type": "markdown",
   "metadata": {
    "id": "F92rhvd6PcRI"
   },
   "source": [
    "### Activation Function\n",
    "Activation functions are simply a function that is applied to the weighed sum of a neuron. They can be anything we want but are typically higher order/degree functions that aim to add a higher dimension to our data. We would want to do this to introduce more comolexity to our model. By transforming our data to a higher dimension, we can typically make better, more complex predictions.\n",
    "\n",
    "A list of some common activation functions and their graphs can be seen below.\n",
    "\n",
    "- Relu (Rectified Linear Unit)\n",
    "\n",
    "![alt text](https://yashuseth.files.wordpress.com/2018/02/relu-function.png?w=309&h=274)\n",
    "- Tanh (Hyperbolic Tangent)\n",
    "\n",
    "![alt text](http://mathworld.wolfram.com/images/interactive/TanhReal.gif)\n",
    "- Sigmoid \n",
    "\n",
    "![alt text](https://miro.medium.com/max/970/1*Xu7B5y9gp0iL5ooBj7LtWw.png)\n",
    "\n"
   ]
  },
  {
   "cell_type": "markdown",
   "metadata": {
    "id": "Q2xNjpctlBUM"
   },
   "source": [
    "### Backpropagation\n",
    "Backpropagation is the fundemental algorithm behind training neural networks. It is what changes the weights and biases of our network. To fully explain this process, we need to start by discussing something called a cost/loss function.\n",
    "\n",
    "#### Loss/Cost Function\n",
    "As we now know our neural network feeds information through the layers until it eventually reaches an output layer. This layer contains the results that we look at to determine the prediciton from our network. In the training phase it is likely that our network will make many mistakes and poor predicitions. In fact, at the start of training our network doesn't know anything (it has random weights and biases)! \n",
    "\n",
    "We need some way of evaluating if the network is doing well and how well it is doing. For our training data we have the features (input) and the labels (expected output), because of this we can compare the output from our network to the expected output. Based on the difference between these values we can determine if our network has done a good job or poor job. If the network has done a good job, we'll make minor changes to the weights and biases. If it has done a poor job our changes may be more drastic.\n",
    "\n",
    "So, this is where the cost/loss function comes in. This function is responsible for determining how well the network did. We pass it the output and the expected output, and it returns to us some value representing the cost/loss of the network. This effectively makes the networks job to optimize this cost function, trying to make it as low as possible. \n",
    "\n",
    "Some common loss/cost functions include.\n",
    "- Mean Squared Error\n",
    "- Mean Absolute Error\n",
    "- Hinge Loss\n",
    "\n",
    "### Gradient Descent\n",
    "Gradient descent and backpropagation are closely related. Gradient descent is the algorithm used to find the optimal paramaters (weights and biases) for our network, while backpropagation is the process of calculating the gradient that is used in the gradient descent step. \n",
    "\n",
    "Gradient descent requires some pretty advanced calculus and linear algebra to understand so we'll stay away from that for now. Let's just read the formal definition for now.\n",
    "\n",
    "\"Gradient descent is an optimization algorithm used to minimize some function by iteratively moving in the direction of steepest descent as defined by the negative of the gradient. In machine learning, we use gradient descent to update the parameters of our model.\" (https://ml-cheatsheet.readthedocs.io/en/latest/gradient_descent.html)\n",
    "\n",
    "And that's all we really need to know for now. I'll direct you to the video for a more in depth explination.\n",
    "\n",
    "![alt text](https://cdn-images-1.medium.com/max/1000/1*iU1QCnSTKrDjIPjSAENLuQ.png)\n",
    "\n"
   ]
  },
  {
   "cell_type": "markdown",
   "metadata": {
    "id": "0KiTMDCKlBI7"
   },
   "source": [
    "### Optimizer\n",
    "You may sometimes see the term optimizer or optimization function. This is simply the function that implements the backpropagation algorithm described above. Here's a list of a few common ones.\n",
    "- Gradient Descent\n",
    "- Stochastic Gradient Descent\n",
    "- Mini-Batch Gradient Descent\n",
    "- Momentum\n",
    "- Nesterov Accelerated Gradient\n",
    "\n",
    "*This article explains them quite well is where I've pulled this list from.*\n",
    "\n",
    "(https://medium.com/@sdoshi579/optimizers-for-training-neural-network-59450d71caf6)"
   ]
  },
  {
   "cell_type": "markdown",
   "metadata": {
    "id": "3io6gbUrjOQY"
   },
   "source": [
    "### Imports"
   ]
  },
  {
   "cell_type": "code",
   "execution_count": 1,
   "metadata": {
    "id": "C1QeNPXfTOei"
   },
   "outputs": [],
   "source": [
    "import tensorflow as tf\n",
    "from tensorflow import keras\n",
    "from keras.datasets import mnist\n",
    "from tensorflow.keras import layers, models\n",
    "\n",
    "# Helper libraries\n",
    "import numpy as np\n",
    "import matplotlib.pyplot as plt"
   ]
  },
  {
   "cell_type": "markdown",
   "metadata": {
    "id": "p_iFN10li6V1"
   },
   "source": [
    "### Dataset\n",
    "For this tutorial we will use the MNIST  Dataset. This is a dataset that is included in keras.\n",
    "\n",
    "This dataset includes 60,000 images for training and 10,000 images for validation/testing."
   ]
  },
  {
   "cell_type": "code",
   "execution_count": 2,
   "metadata": {
    "id": "sIa5b0IhTYnt"
   },
   "outputs": [],
   "source": [
    "(train_images, train_labels), (test_images, test_labels) = mnist.load_data()  # split into testing and training"
   ]
  },
  {
   "cell_type": "markdown",
   "metadata": {
    "id": "AcIall2njfn1"
   },
   "source": [
    "Let's have a look at this data to see what we are working with."
   ]
  },
  {
   "cell_type": "code",
   "execution_count": 3,
   "metadata": {
    "colab": {
     "base_uri": "https://localhost:8080/"
    },
    "id": "WWEBmZlWUPsI",
    "outputId": "0c11f082-053d-4852-a005-ea5b3f6b3a05"
   },
   "outputs": [
    {
     "data": {
      "text/plain": [
       "(60000, 28, 28)"
      ]
     },
     "execution_count": 3,
     "metadata": {},
     "output_type": "execute_result"
    }
   ],
   "source": [
    "train_images.shape"
   ]
  },
  {
   "cell_type": "markdown",
   "metadata": {
    "id": "D2npdFHwjsLS"
   },
   "source": [
    "So we've got 60,000 images that are made up of 28x28 pixels (784 in total)."
   ]
  },
  {
   "cell_type": "code",
   "execution_count": 4,
   "metadata": {
    "colab": {
     "base_uri": "https://localhost:8080/"
    },
    "id": "YRG3iXMEUTbJ",
    "outputId": "c2929f54-a999-42f6-973d-1f7dba2ca721"
   },
   "outputs": [
    {
     "data": {
      "text/plain": [
       "0"
      ]
     },
     "execution_count": 4,
     "metadata": {},
     "output_type": "execute_result"
    }
   ],
   "source": [
    "train_images[0,23,23]  # let's have a look at one pixel"
   ]
  },
  {
   "cell_type": "markdown",
   "metadata": {
    "id": "GUciblEwkBe4"
   },
   "source": [
    "Our pixel values are between 0 and 255, 0 being black and 255 being white. This means we have a grayscale image as there are no color channels."
   ]
  },
  {
   "cell_type": "code",
   "execution_count": 5,
   "metadata": {
    "colab": {
     "base_uri": "https://localhost:8080/"
    },
    "id": "niwCrDzTUgF-",
    "outputId": "2a486829-ac9e-4cf6-92ec-177e87b9ee43"
   },
   "outputs": [
    {
     "data": {
      "text/plain": [
       "array([5, 0, 4, 1, 9, 2, 1, 3, 1, 4], dtype=uint8)"
      ]
     },
     "execution_count": 5,
     "metadata": {},
     "output_type": "execute_result"
    }
   ],
   "source": [
    "train_labels[:10]  # let's have a look at the first 10 training labels"
   ]
  },
  {
   "cell_type": "markdown",
   "metadata": {
    "id": "r90qZKsnkaW7"
   },
   "source": [
    "Our labels are integers ranging from 0 - 9. "
   ]
  },
  {
   "cell_type": "markdown",
   "metadata": {
    "id": "4rv06eD8krMR"
   },
   "source": [
    "Fianlly let's look at what some of these images look like!"
   ]
  },
  {
   "cell_type": "code",
   "execution_count": 6,
   "metadata": {
    "colab": {
     "base_uri": "https://localhost:8080/",
     "height": 265
    },
    "id": "cf62xxJ-Uice",
    "outputId": "9c8f2383-3a4c-4b28-cd43-42a89dd36ed6"
   },
   "outputs": [
    {
     "data": {
      "image/png": "[encoded data removed]",
      "text/plain": [
       "<Figure size 432x288 with 2 Axes>"
      ]
     },
     "metadata": {
      "needs_background": "light"
     },
     "output_type": "display_data"
    }
   ],
   "source": [
    "plt.figure()\n",
    "plt.imshow(train_images[0])\n",
    "plt.colorbar()\n",
    "plt.grid(False)\n",
    "plt.show()"
   ]
  },
  {
   "cell_type": "code",
   "execution_count": 7,
   "metadata": {
    "colab": {
     "base_uri": "https://localhost:8080/",
     "height": 265
    },
    "id": "fynIoynrXynO",
    "outputId": "b47da174-166e-422d-d023-570970a21368"
   },
   "outputs": [
    {
     "data": {
      "image/png": "[encoded data removed]",
      "text/plain": [
       "<Figure size 432x288 with 2 Axes>"
      ]
     },
     "metadata": {
      "needs_background": "light"
     },
     "output_type": "display_data"
    }
   ],
   "source": [
    "plt.figure()\n",
    "plt.imshow(test_images[1])\n",
    "plt.colorbar()\n",
    "plt.grid(False)\n",
    "plt.show()"
   ]
  },
  {
   "cell_type": "markdown",
   "metadata": {
    "id": "n_DC1b0grL1N"
   },
   "source": [
    "## Data Preprocessing\n",
    "The last step before creating our model is to *preprocess* our data. This simply means applying some prior transformations to our data before feeding it the model. In this case we will simply scale all our greyscale pixel values (0-255) to be between 0 and 1. We can do this by dividing each value in the training and testing sets by 255.0. We do this because smaller values will make it easier for the model to process our values. \n",
    "\n"
   ]
  },
  {
   "cell_type": "code",
   "execution_count": 8,
   "metadata": {
    "id": "N2Q8id8wUv56"
   },
   "outputs": [],
   "source": [
    "train_images = train_images / 255.0\n",
    "\n",
    "test_images = test_images / 255.0"
   ]
  },
  {
   "cell_type": "markdown",
   "metadata": {
    "id": "dHOX6GqR0QuD"
   },
   "source": [
    "## Building the Model\n",
    "Now it's time to build the model! We are going to use a keras *sequential* model with three different layers. This model represents a feed-forward neural network (one that passes values from left to right). We'll break down each layer and its architecture below."
   ]
  },
  {
   "cell_type": "markdown",
   "metadata": {
    "id": "qgGv-smX0let"
   },
   "source": [
    "# When to use a Sequential model\n",
    "A Sequential model is appropriate for a plain stack of layers where each layer has exactly one input tensor and one output tensor.\n",
    "\n",
    "<b>Schematically, the following Sequential model:"
   ]
  },
  {
   "cell_type": "code",
   "execution_count": 9,
   "metadata": {
    "id": "yCgil9ZTUzqv"
   },
   "outputs": [],
   "source": [
    "model = keras.Sequential([\n",
    "    keras.layers.Flatten(input_shape=(28, 28)),  # input layer (1)\n",
    "    keras.layers.Dense(128, activation='relu'),  # hidden layer (2)\n",
    "    keras.layers.Dense(10, activation='softmax') # output layer (3)\n",
    "])"
   ]
  },
  {
   "cell_type": "markdown",
   "metadata": {
    "id": "JHoIeEHw5vXQ"
   },
   "source": [
    "https://www.tensorflow.org/guide/keras/sequential_model#specifying_the_input_shape_in_advance"
   ]
  },
  {
   "cell_type": "markdown",
   "metadata": {
    "id": "7zB4MkKO6cOR"
   },
   "source": [
    "<b>Dense implements the operation: output = activation(dot(input, kernel) + bias) </b>\n",
    "\n",
    "where activation is the element-wise activation function passed as the activation argument, kernel is a weights matrix created by the layer, and bias is a bias vector created by the layer. These are all attributes of Dense."
   ]
  },
  {
   "cell_type": "markdown",
   "metadata": {
    "id": "c-bL-I5w0414"
   },
   "source": [
    "**Layer 1:** This is our input layer and it will conist of 784 neurons. We use the flatten layer with an input shape of (28,28) to denote that our input should come in in that shape. The flatten means that our layer will reshape the shape (28,28) array into a vector of 784 neurons so that each pixel will be associated with one neuron.\n",
    "\n",
    "**Layer 2:** This is our first and only hidden layer. The *dense* denotes that this layer will be fully connected and each neuron from the previous layer connects to each neuron of this layer. It has 128 neurons and uses the rectify linear unit activation function.\n",
    "\n",
    "**Layer 3:** This is our output later and is also a dense layer. It has 10 neurons that we will look at to determine our models output. Each neuron represnts the probabillity of a given image being one of the 10 different classes. The activation function *softmax* is used on this layer to calculate a probabillity distribution for each class. This means the value of any neuron in this layer will be between 0 and 1, where 1 represents a high probabillity of the image being that class."
   ]
  },
  {
   "cell_type": "code",
   "execution_count": 10,
   "metadata": {
    "colab": {
     "base_uri": "https://localhost:8080/"
    },
    "id": "JsudgOVeWiZR",
    "outputId": "e7d15367-c50f-48c3-c470-57adfc7a1824"
   },
   "outputs": [
    {
     "name": "stdout",
     "output_type": "stream",
     "text": [
      "Model: \"sequential\"\n",
      "_________________________________________________________________\n",
      "Layer (type)                 Output Shape              Param #   \n",
      "=================================================================\n",
      "flatten (Flatten)            (None, 784)               0         \n",
      "_________________________________________________________________\n",
      "dense (Dense)                (None, 128)               100480    \n",
      "_________________________________________________________________\n",
      "dense_1 (Dense)              (None, 10)                1290      \n",
      "=================================================================\n",
      "Total params: 101,770\n",
      "Trainable params: 101,770\n",
      "Non-trainable params: 0\n",
      "_________________________________________________________________\n"
     ]
    }
   ],
   "source": [
    "model.summary()  # let's have a look at our model so far"
   ]
  },
  {
   "cell_type": "markdown",
   "metadata": {
    "id": "ZXw-sreaSzTW"
   },
   "source": [
    "After looking at the summary you should notice that the depth of our image increases but the spacial dimensions reduce drastically."
   ]
  },
  {
   "cell_type": "markdown",
   "metadata": {
    "id": "-j1UF9QH21Ex"
   },
   "source": [
    "### Compile the Model\n",
    "The last step in building the model is to define the loss function, optimizer and metrics we would like to track. I won't go into detail about why we chose each of these right now."
   ]
  },
  {
   "cell_type": "code",
   "execution_count": 11,
   "metadata": {
    "id": "_XLC7p8gU3Wq"
   },
   "outputs": [],
   "source": [
    "model.compile(optimizer='adam',\n",
    "              loss='sparse_categorical_crossentropy',\n",
    "              metrics=['accuracy'])"
   ]
  },
  {
   "cell_type": "markdown",
   "metadata": {
    "id": "7YYW5V_53OXV"
   },
   "source": [
    "## Training the Model\n",
    "Now it's finally time to train the model. Since we've already done all the work on our data this step is as easy as calling a single method."
   ]
  },
  {
   "cell_type": "code",
   "execution_count": 12,
   "metadata": {
    "colab": {
     "base_uri": "https://localhost:8080/"
    },
    "id": "gIT0F6iqU7Fb",
    "outputId": "c1f5caa0-4f1f-4c36-f596-38c7f085c180"
   },
   "outputs": [
    {
     "name": "stdout",
     "output_type": "stream",
     "text": [
      "Epoch 1/7\n",
      "1875/1875 [==============================] - 4s 2ms/step - loss: 0.2595 - accuracy: 0.9264\n",
      "Epoch 2/7\n",
      "1875/1875 [==============================] - 3s 2ms/step - loss: 0.1146 - accuracy: 0.9663\n",
      "Epoch 3/7\n",
      "1875/1875 [==============================] - 3s 2ms/step - loss: 0.0779 - accuracy: 0.9760\n",
      "Epoch 4/7\n",
      "1875/1875 [==============================] - 3s 2ms/step - loss: 0.0580 - accuracy: 0.9821\n",
      "Epoch 5/7\n",
      "1875/1875 [==============================] - 3s 2ms/step - loss: 0.0451 - accuracy: 0.9859\n",
      "Epoch 6/7\n",
      "1875/1875 [==============================] - 3s 2ms/step - loss: 0.0358 - accuracy: 0.9892\n",
      "Epoch 7/7\n",
      "1875/1875 [==============================] - 3s 2ms/step - loss: 0.0279 - accuracy: 0.9912\n"
     ]
    },
    {
     "data": {
      "text/plain": [
       "<tensorflow.python.keras.callbacks.History at 0x1fe10d71730>"
      ]
     },
     "execution_count": 12,
     "metadata": {},
     "output_type": "execute_result"
    }
   ],
   "source": [
    "model.fit(train_images, train_labels, epochs=7)  # we pass the data, labels and epochs."
   ]
  },
  {
   "cell_type": "markdown",
   "metadata": {
    "id": "y6SRtNcF4K1O"
   },
   "source": [
    "## Evaluating the Model\n",
    "Now it's time to test/evaluate the model. We can do this quite easily using another builtin method from keras.\n",
    "\n",
    "The *verbose* argument is defined from the keras documentation as:\n",
    "\"verbose: 0 or 1. Verbosity mode. 0 = silent, 1 = progress bar.\"\n",
    "(https://keras.io/models/sequential/)"
   ]
  },
  {
   "cell_type": "code",
   "execution_count": 13,
   "metadata": {
    "colab": {
     "base_uri": "https://localhost:8080/"
    },
    "id": "Iyhy02rYVJ0e",
    "outputId": "3085511e-1045-4743-c9f6-7a50605bc049"
   },
   "outputs": [
    {
     "name": "stdout",
     "output_type": "stream",
     "text": [
      "313/313 [==============================] - 1s 2ms/step - loss: 0.0705 - accuracy: 0.9790\n",
      "Test accuracy: 0.9789999723434448\n"
     ]
    }
   ],
   "source": [
    "test_loss, test_acc = model.evaluate(test_images,  test_labels, verbose=1) \n",
    "\n",
    "print('Test accuracy:', test_acc)"
   ]
  },
  {
   "cell_type": "markdown",
   "metadata": {
    "id": "nb4_EtfK5DuW"
   },
   "source": [
    "You'll likely notice that the accuracy here is lower than when training the model. This difference is reffered to as **overfitting**.\n",
    "\n",
    "And now we have a trained model that's ready to use to predict some values!"
   ]
  },
  {
   "cell_type": "markdown",
   "metadata": {
    "id": "Pv0XpgwJ7GlW"
   },
   "source": [
    "## Making Predictions\n",
    "To make predictions we simply need to pass an array of data in the form we've specified in the input layer to ```.predict()``` method."
   ]
  },
  {
   "cell_type": "code",
   "execution_count": 14,
   "metadata": {
    "id": "IcQWWP5ZVSpL"
   },
   "outputs": [],
   "source": [
    "predictions = model.predict(test_images)"
   ]
  },
  {
   "cell_type": "markdown",
   "metadata": {
    "id": "LmRgxuEc7Xjc"
   },
   "source": [
    "This method returns to us an array of predictions for each image we passed it. Let's have a look at the predictions for image 1."
   ]
  },
  {
   "cell_type": "code",
   "execution_count": 15,
   "metadata": {
    "colab": {
     "base_uri": "https://localhost:8080/"
    },
    "id": "mrMJ8Fa9VUdO",
    "outputId": "7a0d5560-f78e-401a-fd8d-b33c3015a577"
   },
   "outputs": [
    {
     "data": {
      "text/plain": [
       "array([1.3842840e-11, 6.7565843e-08, 9.9999714e-01, 2.6194487e-06,\n",
       "       1.7999380e-19, 1.7358590e-09, 1.8873424e-10, 1.8075173e-15,\n",
       "       1.1122357e-07, 9.9310547e-15], dtype=float32)"
      ]
     },
     "execution_count": 15,
     "metadata": {},
     "output_type": "execute_result"
    }
   ],
   "source": [
    "predictions[1]"
   ]
  },
  {
   "cell_type": "markdown",
   "metadata": {
    "id": "eiRNg9Yr7lCt"
   },
   "source": [
    "If we wan't to get the value with the highest score we can use a useful function from numpy called ```argmax()```. This simply returns the index of the maximium value from a numpy array. "
   ]
  },
  {
   "cell_type": "code",
   "execution_count": 16,
   "metadata": {
    "colab": {
     "base_uri": "https://localhost:8080/"
    },
    "id": "kMmO2BgEVZX9",
    "outputId": "3d0dd920-f376-4bb1-da29-917054796a81"
   },
   "outputs": [
    {
     "data": {
      "text/plain": [
       "2"
      ]
     },
     "execution_count": 16,
     "metadata": {},
     "output_type": "execute_result"
    }
   ],
   "source": [
    "np.argmax(predictions[1])"
   ]
  },
  {
   "cell_type": "markdown",
   "metadata": {
    "id": "aWY4SKYm8h93"
   },
   "source": [
    "And we can check if this is correct by looking at the value of the cooresponding test label."
   ]
  },
  {
   "cell_type": "code",
   "execution_count": 17,
   "metadata": {
    "colab": {
     "base_uri": "https://localhost:8080/"
    },
    "id": "FDBD67QAVbsM",
    "outputId": "3ee1e79f-7c47-444c-8aa2-164f888b0baa"
   },
   "outputs": [
    {
     "data": {
      "text/plain": [
       "2"
      ]
     },
     "execution_count": 17,
     "metadata": {},
     "output_type": "execute_result"
    }
   ],
   "source": [
    "test_labels[1]"
   ]
  },
  {
   "cell_type": "markdown",
   "metadata": {
    "id": "Y8I1EqJu8qRl"
   },
   "source": [
    "## Verifying Predictions\n",
    "I've written a small function here to help us verify predictions with some simple visuals."
   ]
  },
  {
   "cell_type": "code",
   "execution_count": 18,
   "metadata": {
    "colab": {
     "base_uri": "https://localhost:8080/",
     "height": 321
    },
    "id": "6TtgADAxa82X",
    "outputId": "c03acaa1-7ec9-4914-ff41-538ecdcfe0bd"
   },
   "outputs": [
    {
     "name": "stdout",
     "output_type": "stream",
     "text": [
      "Pick a number: test_image 4\n",
      "Excpected: 4\n",
      "Guess: 4\n"
     ]
    },
    {
     "data": {
      "image/png": "[encoded data removed]",
      "text/plain": [
       "<Figure size 432x288 with 2 Axes>"
      ]
     },
     "metadata": {
      "needs_background": "light"
     },
     "output_type": "display_data"
    },
    {
     "name": "stdout",
     "output_type": "stream",
     "text": [
      "Saving the model as ANNMODEL.h5\n"
     ]
    }
   ],
   "source": [
    "COLOR = 'white'\n",
    "plt.rcParams['text.color'] = COLOR\n",
    "plt.rcParams['axes.labelcolor'] = COLOR\n",
    "\n",
    "def show_image(img, label, guess):\n",
    "  plt.figure()\n",
    "  plt.imshow(img, cmap=plt.cm.binary)\n",
    "  print(\"Excpected: \" + str(label))\n",
    "  print(\"Guess: \" + str(guess))\n",
    "  plt.colorbar()\n",
    "  plt.grid(False)\n",
    "  plt.show()\n",
    "\n",
    "def predict(model, image, correct_label):\n",
    "  prediction = model.predict(np.array([image]))\n",
    "  predicted_class = np.argmax(prediction)\n",
    "  show_image(image, correct_label, predicted_class)\n",
    "\n",
    "def get_number():\n",
    "  while True:\n",
    "    num = input(\"Pick a number: test_image \")\n",
    "    if num.isdigit():\n",
    "      num = int(num)\n",
    "      if 0 <= num <= 1000:\n",
    "        return int(num)\n",
    "    else:\n",
    "      print(\"Try again...\")\n",
    "\n",
    "num = get_number()\n",
    "image = test_images[num]\n",
    "label = test_labels[num]\n",
    "predict(model, image, label)\n",
    "model.save('ANNMODEL.h5')\n",
    "print(\"Saving the model as ANNMODEL.h5\")"
   ]
  },
  {
   "cell_type": "code",
   "execution_count": null,
   "metadata": {},
   "outputs": [],
   "source": []
  }
 ],
 "metadata": {
  "colab": {
   "collapsed_sections": [],
   "name": "HWDR(UT-1).ipynb",
   "provenance": []
  },
  "kernelspec": {
   "display_name": "Python 3 (ipykernel)",
   "language": "python",
   "name": "python3"
  },
  "language_info": {
   "codemirror_mode": {
    "name": "ipython",
    "version": 3
   },
   "file_extension": ".py",
   "mimetype": "text/x-python",
   "name": "python",
   "nbconvert_exporter": "python",
   "pygments_lexer": "ipython3",
   "version": "3.8.11"
  }
 },
 "nbformat": 4,
 "nbformat_minor": 1
}
